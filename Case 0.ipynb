{
 "cells": [
  {
   "cell_type": "code",
   "execution_count": null,
   "metadata": {},
   "outputs": [],
   "source": [
    "#1. Write a program find square root of a number.\n",
    "num = int(input(\"Enter a number\"))\n",
    "num = num ** 0.5\n",
    "print(num)"
   ]
  },
  {
   "cell_type": "code",
   "execution_count": null,
   "metadata": {},
   "outputs": [],
   "source": [
    "#2. Python Program to find the area of triangle\n",
    "a = float(input(\"Enter the 1st side \"))\n",
    "b = float(input(\"Enter the 2nd side \"))\n",
    "c = float(input(\"Enter the 3rd side \"))\n",
    "s = (a+b+c)/2\n",
    "area = (s*(s-a)*(s-b)*(s-c))**0.5\n",
    "print(area)"
   ]
  },
  {
   "cell_type": "code",
   "execution_count": null,
   "metadata": {},
   "outputs": [],
   "source": [
    "#3. Python program to swap two variables provided by the user without temporary variable\n",
    "x = int(input(\"X = \"))\n",
    "y = int(input(\"Y = \"))\n",
    "print('Before swaping, X = %d and Y = %d'%(x,y))\n",
    "x = x+y\n",
    "y = x-y\n",
    "x = x-y\n",
    "print('After swaping, X = %d and Y = %d'%(x,y))"
   ]
  },
  {
   "cell_type": "code",
   "execution_count": null,
   "metadata": {},
   "outputs": [],
   "source": [
    "#4. Python program to check if the input year is a leap year or not#\n",
    "year = int(input(\"Year = \"))\n",
    "if (year % 4 == 0):\n",
    "    print(\"This is a leap year\")\n",
    "else:\n",
    "    print(\"This is not a leap year\")"
   ]
  },
  {
   "cell_type": "code",
   "execution_count": null,
   "metadata": {},
   "outputs": [],
   "source": [
    "#5. Program to display the Fibonacci sequence up to n-th term where n is provided by the user\n",
    "nt = int(input(\"Number of terms = \"))\n",
    "n1 = 0\n",
    "n2 = 1\n",
    "count = 0\n",
    "if(nt < 0):\n",
    "    print(\"Enter a positive number\")\n",
    "elif nt == 1:\n",
    "    print(\"Fibonacci sequence upto\",nt,\":\")\n",
    "    print(n1)\n",
    "else:\n",
    "    print(\"Fibonacci sequence upto\",nt,\":\")\n",
    "    while count < nt:\n",
    "        print(n1, end = ' , ')\n",
    "        nth = n1 + n2\n",
    "       \n",
    "        n1 = n2\n",
    "        n2 = nth\n",
    "        count += 1"
   ]
  },
  {
   "cell_type": "code",
   "execution_count": null,
   "metadata": {},
   "outputs": [],
   "source": [
    "#6. Python program to check if the number provided by the user is an Armstrong number or not\n",
    "\n",
    "num = int(input(\"Enter a number: \"))\n",
    "\n",
    "sum = 0\n",
    "\n",
    "# find the sum of the cube of each digit\n",
    "temp = num\n",
    "while temp > 0:\n",
    "    digit = temp % 10\n",
    "    sum += digit ** 3\n",
    "    temp //= 10\n",
    "\n",
    "if num == sum:\n",
    "    print(num,\"is an Armstrong number\")\n",
    "else:\n",
    "    print(num,\"is not an Armstrong number\")"
   ]
  },
  {
   "cell_type": "code",
   "execution_count": null,
   "metadata": {},
   "outputs": [],
   "source": [
    "#7. Python Program to display the powers of 2 using anonymous function\n",
    "terms = int(input(\"How many terms? \"))\n",
    "\n",
    "# use anonymous function\n",
    "result = list(map(lambda x: 2 ** x, range(terms)))\n",
    "\n",
    "# display the result\n",
    "print(\"The total terms is:\",terms)\n",
    "for i in range(terms):\n",
    "    print(\"2 raised to power\",i,\"is\",result[i])"
   ]
  }
 ],
 "metadata": {
  "kernelspec": {
   "display_name": "Python 3",
   "language": "python",
   "name": "python3"
  },
  "language_info": {
   "codemirror_mode": {
    "name": "ipython",
    "version": 3
   },
   "file_extension": ".py",
   "mimetype": "text/x-python",
   "name": "python",
   "nbconvert_exporter": "python",
   "pygments_lexer": "ipython3",
   "version": "3.6.4"
  }
 },
 "nbformat": 4,
 "nbformat_minor": 2
}
